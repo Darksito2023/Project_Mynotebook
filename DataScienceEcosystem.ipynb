{
  "metadata": {
    "kernelspec": {
      "name": "python",
      "display_name": "Python (Pyodide)",
      "language": "python"
    },
    "language_info": {
      "codemirror_mode": {
        "name": "python",
        "version": 3
      },
      "file_extension": ".py",
      "mimetype": "text/x-python",
      "name": "python",
      "nbconvert_exporter": "python",
      "pygments_lexer": "ipython3",
      "version": "3.8"
    }
  },
  "nbformat_minor": 5,
  "nbformat": 4,
  "cells": [
    {
      "id": "489e881b-bc7d-452b-926c-25c2cf1dfe12",
      "cell_type": "markdown",
      "source": "\n# Data Science Tools and Ecosystem ",
      "metadata": {}
    },
    {
      "id": "61da894d-9c82-4c96-9603-29fa8efb8bb0",
      "cell_type": "markdown",
      "source": "\n\nIn this notebook, Data Science Tools and Ecosystem are summarized.\n",
      "metadata": {}
    },
    {
      "id": "4a5c93f0-106a-4167-bfba-edf12abd57b1",
      "cell_type": "markdown",
      "source": "Some of the popular languages that Data Scientists use are:\n1. Python\n2. SQL\n3. R\n4. Julia",
      "metadata": {}
    },
    {
      "id": "16fef713-29d8-443c-bf4b-70af645a6718",
      "cell_type": "markdown",
      "source": "Some of the commonly used libraries used by Data Scientists include:\n1. Pandas\n2. Matplotlib\n3. Numpy\n4. Seaborn\n",
      "metadata": {}
    },
    {
      "id": "515984f0-a50e-450e-ad7e-e4a327fb616c",
      "cell_type": "markdown",
      "source": "#Exercise 7 - Create a markdown cell introducing arithmetic expression examples\n## Next, Below are a few examples of evaluating arithmetic expressions in Python\n\n\n\n",
      "metadata": {}
    },
    {
      "id": "df06207b-043a-419b-8add-87d46a4307d4",
      "cell_type": "markdown",
      "source": "### Herramientas de ciencia de datos:\n| SI. No | Herramientas de ciencia de datos|\n| -------------| ------ |\n| 1 | Jupyter Notebook |\n| 2| R studio |\n|3| Google colaboratory|\n\n\n",
      "metadata": {}
    },
    {
      "id": "0036acad-901e-4b91-a063-42d7ecc01ecf",
      "cell_type": "markdown",
      "source": "### Below are a few examples of evaluating arithmetic expressions in Python\n# Sum operation\n\n\n\n\n\n\n",
      "metadata": {}
    },
    {
      "id": "ce753a6f-7eee-4b55-9c54-303a32960883",
      "cell_type": "code",
      "source": "3+5",
      "metadata": {
        "trusted": true
      },
      "outputs": [
        {
          "execution_count": 5,
          "output_type": "execute_result",
          "data": {
            "text/plain": "8"
          },
          "metadata": {}
        }
      ],
      "execution_count": 5
    },
    {
      "id": "c4bb56ac-390e-4544-95b5-bb0ab9beefcd",
      "cell_type": "markdown",
      "source": "# subtraction operation\n",
      "metadata": {}
    },
    {
      "id": "cee4353a-1491-48db-a15e-6347b44c0cd6",
      "cell_type": "code",
      "source": "12-2",
      "metadata": {
        "trusted": true
      },
      "outputs": [
        {
          "execution_count": 7,
          "output_type": "execute_result",
          "data": {
            "text/plain": "10"
          },
          "metadata": {}
        }
      ],
      "execution_count": 7
    },
    {
      "id": "c0831063-5722-4417-bd8c-43c243dcfb67",
      "cell_type": "markdown",
      "source": "# Multiplication operation",
      "metadata": {}
    },
    {
      "id": "852d0542-71de-4269-832b-0e9044fe7b60",
      "cell_type": "code",
      "source": "5*4",
      "metadata": {
        "trusted": true
      },
      "outputs": [
        {
          "execution_count": 4,
          "output_type": "execute_result",
          "data": {
            "text/plain": "20"
          },
          "metadata": {}
        }
      ],
      "execution_count": 4
    },
    {
      "id": "afed4f1e-f0eb-47cc-8edd-1be525306c68",
      "cell_type": "markdown",
      "source": "# This a simple arithmetic expression to multiply then add integers \n   ",
      "metadata": {}
    },
    {
      "id": "1653785e-d68e-427e-84e6-d5ef49dcb285",
      "cell_type": "code",
      "source": " (3*4)+5",
      "metadata": {
        "trusted": true
      },
      "outputs": [
        {
          "execution_count": 8,
          "output_type": "execute_result",
          "data": {
            "text/plain": "17"
          },
          "metadata": {}
        }
      ],
      "execution_count": 8
    },
    {
      "id": "5f8811c8-68bb-4041-a896-0f75fdb14fce",
      "cell_type": "markdown",
      "source": "# This will convert 200 minutes to hours by diving by 60\n",
      "metadata": {}
    },
    {
      "id": "8b6e672c-d1ea-4149-9d37-5e8debc5278c",
      "cell_type": "code",
      "source": "200/60",
      "metadata": {
        "trusted": true
      },
      "outputs": [
        {
          "execution_count": 9,
          "output_type": "execute_result",
          "data": {
            "text/plain": "3.3333333333333335"
          },
          "metadata": {}
        }
      ],
      "execution_count": 9
    },
    {
      "id": "c37e9876-33bd-48f3-bcde-5b291ab1a10f",
      "cell_type": "markdown",
      "source": "\n**Objectives:**\n+ Languages of Data Science\n+ Libraries for Data Science\n+ Open Source Tools for Data Science\n+ Commercial Tools for Data Science\n+ Cloud Based Tools for Data Science",
      "metadata": {}
    },
    {
      "id": "315214e7-6d82-4baa-a95e-edd2771a2a5a",
      "cell_type": "markdown",
      "source": "#Exercise 8 - Create a code cell to multiply and add numbers\n### This a simple arithmetic expression to mutiply then add integers. \n(3*4)+5",
      "metadata": {}
    },
    {
      "id": "1426584d-09d0-4ba3-88e4-82b339362053",
      "cell_type": "markdown",
      "source": "#Exercise 9 - Create a code cell to convert minutes to hours\n### This will convert 200 minutes to hours by diving by 60.\n   \n200/60\n\n\n",
      "metadata": {}
    },
    {
      "id": "9a247d34-dcbf-4f21-868f-0560b0b41e29",
      "cell_type": "markdown",
      "source": "\n## Author Name\nPaul Rodas\n\n",
      "metadata": {}
    }
  ]
}